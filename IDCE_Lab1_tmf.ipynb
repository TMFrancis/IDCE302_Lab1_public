{
  "nbformat": 4,
  "nbformat_minor": 0,
  "metadata": {
    "colab": {
      "name": "IDCE_Lab1_tmf.ipynb",
      "provenance": [],
      "collapsed_sections": [],
      "toc_visible": true
    },
    "kernelspec": {
      "name": "python3",
      "display_name": "Python 3"
    }
  },
  "cells": [
    {
      "cell_type": "code",
      "metadata": {
        "id": "UuSM7NKmeA6A",
        "colab_type": "code",
        "colab": {}
      },
      "source": [
        ""
      ],
      "execution_count": null,
      "outputs": []
    },
    {
      "cell_type": "markdown",
      "metadata": {
        "id": "WuzHrA7HeQDJ",
        "colab_type": "text"
      },
      "source": [
        "## **IDCE Lab 1: Calculations with Python**\n",
        "\n",
        "**Name**: Tom Francis<br>\n",
        "**Class**: IDCE 302<br>\n",
        "**Date**: 4 September 2020<br>\n",
        "**Python Version**: CoLab Python v3<br>\n",
        "**Description**: The following code defines a function, runoff(), that accepts arguments for a land plot in feet (width and length) and total percipitation in inches. It will return the inputs as well as total rain runoff in gallons. It is assumed that the plot of land is impervious; runoff is equivalent to 100% of rainfall on plot and there is no runoff from abutting plots."
      ]
    },
    {
      "cell_type": "code",
      "metadata": {
        "id": "AS9-lUsYg1Zr",
        "colab_type": "code",
        "colab": {
          "base_uri": "https://localhost:8080/",
          "height": 85
        },
        "outputId": "0eae74b3-cede-40c2-b6c4-9b470815068d"
      },
      "source": [
        "\"\"\"\n",
        "runoff calculates total rain runoff for impervious plots based on plot dimensions and rainfall\n",
        "three inputs are plot length, plot width and rainfall in Imperial units (feet, feet, inches)\n",
        "output is in gallons\n",
        "\"\"\"\n",
        "def runoff(plot_length,plot_width,rainfall_inches):\n",
        "  in_to_gal=0.00432900433                                   #conversion factor for square inches to gallons. source:www.calculateme.com \n",
        "  plot_area_ft=plot_length*plot_width                       #calculate plot area in square feet\n",
        "  plot_area_in=plot_area_ft*144                             #convert square feet to square inches\n",
        "  plot_area_sqin=plot_area_in*rainfall_inches               #convert square inches to cubic inches of rainfall\n",
        "  total_runoff_gal= plot_area_sqin*in_to_gal                #convert cubic inches of rainfall to gallons\n",
        "\n",
        "  print(\"plot_length: \",plot_length,\" (feet)\")\n",
        "  print(\"plot_width: \",plot_width,\" (feet)\")\n",
        "  print(\"rainfall_inches: \",rainfall_inches,\" (inches)\")\n",
        "  print(\"runoff_gallons: \",round(total_runoff_gal,2),\" (gallons)\")\n",
        "\n",
        "runoff(50,20,1)                                             #run function with lab defined values"
      ],
      "execution_count": 4,
      "outputs": [
        {
          "output_type": "stream",
          "text": [
            "plot_length:  50  (feet)\n",
            "plot_width:  20  (feet)\n",
            "rainfall_inches:  1  (inches)\n",
            "runoff_gallons:  623.38  (gallons)\n"
          ],
          "name": "stdout"
        }
      ]
    }
  ]
}